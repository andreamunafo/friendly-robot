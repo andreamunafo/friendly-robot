{
 "cells": [
  {
   "cell_type": "markdown",
   "metadata": {},
   "source": [
    "# Setting up Python and Jupyter with Conda environments on Linux or Mac OS X"
   ]
  },
  {
   "cell_type": "markdown",
   "metadata": {},
   "source": [
    "This notebook is based on the well done tutorial of Charles Deledalle, and modified to fit my needs. Refer to the original document [here](https://www.charles-deledalle.fr/pages/files/configure_conda.pdf)."
   ]
  },
  {
   "cell_type": "markdown",
   "metadata": {},
   "source": [
    "## Install and set up conda"
   ]
  },
  {
   "cell_type": "markdown",
   "metadata": {},
   "source": [
    "Download Anaconda: https://www.anaconda.com/distribution/. I recommend choosing Python 3 but this is something that can be changed later"
   ]
  },
  {
   "cell_type": "markdown",
   "metadata": {},
   "source": [
    "Install Anaconda by typing:\n",
    "    \n",
    "    $ sh ~/Downloads/Anaconda3-5.2.0-Linux-x86_64.sh"
   ]
  },
  {
   "cell_type": "markdown",
   "metadata": {},
   "source": [
    "Once Anacoda is installed you can enable/disable conda:\n",
    "\n",
    "     $ conda activate\n",
    "     \n",
    "     $ which python \n",
    "     /home/andreamunafo/anaconda3/bin/python \n",
    "     \n",
    "     $ conda deactivate\n",
    "     \n",
    "     $ which python\n",
    "     /usr/bin/python\n",
    "     \n",
    "     $ conda activate\n",
    "     \n",
    "     $ which python \n",
    "     /home/andreamunafo/anaconda3/bin/python"
   ]
  },
  {
   "cell_type": "markdown",
   "metadata": {},
   "source": [
    "This can be useful since Python-based programs you may install on your Linux distribution (via apt, rpm, portage or whatever) are meant to be run with the default python version of your Linux distribution (the one localized at /usr/bin/python). If these programs run with Conda’s python instead, you may encountered some hassle."
   ]
  },
  {
   "cell_type": "markdown",
   "metadata": {},
   "source": [
    "Useful conda commands are:\n",
    "\n",
    "    $ conda help\n",
    "    $ conda install package\n",
    "    $ conda search package\n",
    "    $ conda list\n",
    "    $ conda env list"
   ]
  },
  {
   "cell_type": "markdown",
   "metadata": {},
   "source": [
    "# Install Jupyter notebook in a conda environment"
   ]
  },
  {
   "cell_type": "markdown",
   "metadata": {},
   "source": [
    "Simply run:"
   ]
  },
  {
   "cell_type": "markdown",
   "metadata": {},
   "source": [
    "     $ conda install jupyter"
   ]
  },
  {
   "cell_type": "markdown",
   "metadata": {},
   "source": [
    "Check your installation by typing:"
   ]
  },
  {
   "cell_type": "markdown",
   "metadata": {},
   "source": [
    "     $ jupyter-notebook"
   ]
  },
  {
   "cell_type": "markdown",
   "metadata": {},
   "source": [
    "A notebook should open in your web browser."
   ]
  },
  {
   "cell_type": "markdown",
   "metadata": {},
   "source": [
    "## Create virtual environments"
   ]
  },
  {
   "cell_type": "markdown",
   "metadata": {},
   "source": [
    "Install `nb_conda kernels` package first\n",
    "\n",
    "    $ conda install nb_conda_kernels"
   ]
  },
  {
   "cell_type": "markdown",
   "metadata": {},
   "source": [
    "This will link your different conda environments with ipython kernels into your jupyter notebook."
   ]
  },
  {
   "cell_type": "markdown",
   "metadata": {},
   "source": [
    "Define a list of default packages that you want to install in all your environments:\n",
    "\n",
    "    $ defpack=\"ipykernel numpy matplotlib imageio scipy opencv\""
   ]
  },
  {
   "cell_type": "markdown",
   "metadata": {},
   "source": [
    "Note that you want `ipykernel` in order to see your environment in jupyter."
   ]
  },
  {
   "cell_type": "markdown",
   "metadata": {},
   "source": [
    "Create the environments that you need, for example:"
   ]
  },
  {
   "cell_type": "markdown",
   "metadata": {},
   "source": [
    "    $ conda create --name python-2.7 python=2.7 $defpack\n",
    "    $ conda create --name python-3.6 python=3.6 $defpack\n",
    "    $ conda create --name pytorch-2.7 python=3.6 pytorch $defpack\n",
    "    $ conda create --name tf-cpu-3.6 python=3.6 tensorflow $defpack"
   ]
  },
  {
   "cell_type": "markdown",
   "metadata": {},
   "source": [
    "Now you can access the environment as:"
   ]
  },
  {
   "cell_type": "markdown",
   "metadata": {},
   "source": [
    "    $ conda activate envname"
   ]
  },
  {
   "cell_type": "markdown",
   "metadata": {},
   "source": [
    "And see the list of all environments:"
   ]
  },
  {
   "cell_type": "markdown",
   "metadata": {},
   "source": [
    "    $ conda env list"
   ]
  },
  {
   "cell_type": "markdown",
   "metadata": {},
   "source": [
    "Thanks to the nb_conda_kernels package you can also create new notebooks with a specific environment directly in the notebook.\n",
    "\n",
    "Click on New and select the desired environment (e.g. `Python [conda env:pytorch-3.6]`)"
   ]
  },
  {
   "cell_type": "markdown",
   "metadata": {},
   "source": [
    "As a reference, the environment compiling-ai was created as:"
   ]
  },
  {
   "cell_type": "markdown",
   "metadata": {},
   "source": [
    "    $ conda create --name compiling-ai python=3.6 $defpack\n",
    "    $ conda install -n compiling-ai -c pytorch pytorch"
   ]
  },
  {
   "cell_type": "markdown",
   "metadata": {},
   "source": [
    "Or the csp environment as:"
   ]
  },
  {
   "cell_type": "markdown",
   "metadata": {},
   "source": [
    "    $ conda create -n csp python=3.6 $defpack\n",
    "    $ conda install -n csp -c BenEnsta pyibex"
   ]
  },
  {
   "cell_type": "markdown",
   "metadata": {},
   "source": [
    "Activate it with:"
   ]
  },
  {
   "cell_type": "markdown",
   "metadata": {},
   "source": [
    "     $ conda activate compiling-ai"
   ]
  },
  {
   "cell_type": "markdown",
   "metadata": {},
   "source": [
    "For more information:"
   ]
  },
  {
   "cell_type": "markdown",
   "metadata": {},
   "source": [
    "      $ conda env --help"
   ]
  },
  {
   "cell_type": "markdown",
   "metadata": {},
   "source": [
    "# To use pip in an environment"
   ]
  },
  {
   "cell_type": "markdown",
   "metadata": {},
   "source": [
    "To use pip in your environment, in your terminal window or an Anaconda Prompt, run:\n",
    "\n",
    "     $ conda install -n myenv pip\n",
    "     $ conda activate myenv\n",
    "     $ pip <pip_subcommand>\n"
   ]
  },
  {
   "cell_type": "markdown",
   "metadata": {},
   "source": [
    "Issues may arise when using pip and conda together. When combining conda and pip, it is best to use an isolated conda environment. Only after conda has been used to install as many packages as possible should pip be used to install any remaining software. If modifications are needed to the environment, it is best to create a new environment rather than running conda after pip. When appropriate, conda and pip requirements should be stored in text files."
   ]
  }
 ],
 "metadata": {
  "kernelspec": {
   "display_name": "Python 3",
   "language": "python",
   "name": "python3"
  },
  "language_info": {
   "codemirror_mode": {
    "name": "ipython",
    "version": 3
   },
   "file_extension": ".py",
   "mimetype": "text/x-python",
   "name": "python",
   "nbconvert_exporter": "python",
   "pygments_lexer": "ipython3",
   "version": "3.7.4"
  }
 },
 "nbformat": 4,
 "nbformat_minor": 2
}
