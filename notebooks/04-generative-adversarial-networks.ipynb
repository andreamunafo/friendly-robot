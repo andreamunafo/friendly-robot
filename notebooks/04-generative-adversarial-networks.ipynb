{
 "cells": [
  {
   "cell_type": "markdown",
   "metadata": {},
   "source": [
    "# Generative Adversarial Networks "
   ]
  },
  {
   "cell_type": "code",
   "execution_count": 1,
   "metadata": {},
   "outputs": [],
   "source": [
    "__author__ = 'andrea munafo'"
   ]
  },
  {
   "cell_type": "markdown",
   "metadata": {},
   "source": [
    "This notebook plays with GANs using the MNIST dataset.\n",
    "\n",
    "Interesting references are reported at the end."
   ]
  },
  {
   "cell_type": "markdown",
   "metadata": {},
   "source": [
    "## GANs in brief"
   ]
  },
  {
   "cell_type": "markdown",
   "metadata": {},
   "source": [
    "Suppose that we are interested in generating black and white square images of somthing (e.g. dogs) with a size of $nxn$ pixels.   \n",
    "We can also reshape each image to be a vector of size $N=nxn$. This means that we can represent the image of a dog as a vector of size $N$.\n",
    "This, of course, does not mean that all vectors of size $N$ represent dogs (once back to a square image) but we can say that the $N$ dimentional vectors that represent something that looks like a dog are distributed according to a very specific probability distribution over the entire $N$ dimensional vector space.\n",
    "Some points of this space represent dogs, other might represent cats, etc.\n",
    "\n",
    "The problem of generating a new image of dog is equivalent to the problem of generating a new vector according to the correct \"dog probability distribution\" [[1](https://towardsdatascience.com/understanding-generative-adversarial-networks-gans-cd6e4651a29)] over the $N$ dimensional vector space. \n",
    "This is the general problem of generating a random variable with respect to a specific probability distribution."
   ]
  },
  {
   "cell_type": "markdown",
   "metadata": {},
   "source": [
    "The problem then becomes that of using a neural network to approximate the target probability distribution.\n",
    "This is equivalent to using the inverse transform sampling method using a neural network."
   ]
  },
  {
   "cell_type": "markdown",
   "metadata": {},
   "source": [
    "Our first problem when trying to generate our new image of dog is that the “dog probability distribution” over the N dimensional vector space is a very complex one and we don’t know how to directly generate complex random variables. However, as we know pretty well how to generate N uncorrelated uniform random variables, we could make use of the transform method. To do so, we need to express our N dimensional random variable as the result of a very complex function applied to a simple N dimensional random variable!\n",
    "Here, we can emphasise the fact that finding the transform function is not as straightforward as just taking the closed-form inverse of the Cumulative Distribution Function (that we obviously don’t know) as we have done when describing the inverse transform method. The transform function can’t be explicitly expressed and, then, we have to learn it from data.\n",
    "\n",
    "Then, the idea is to model the transform function using a neural network that takes as input a simple N dimensional uniform random variable and that returns as output another N dimensional random variable that should follow, after training, the right “dog probability distribution”."
   ]
  },
  {
   "cell_type": "markdown",
   "metadata": {},
   "source": [
    "To train this network we can use two methods. A direct one, where we compare the true and the generated probability distributions and then we backpropage the error. This is the idea behind Generative Matching Networks (GMNs).\n",
    "In the indirect method we do not do a direct comparison but we add an additional layer (a discrimination task between true and generated samples) that somehow tries to enforce that the true and the generated distribution are as close as possible.\n",
    "The indirect method is the one used by Generative Adversarial Networks.\n",
    "\n",
    "So, in a GAN architecture, we have a discriminator, that takes samples of true and generated data and that try to classify them as well as possible, and a generator that is trained to fool the discriminator as much as possible."
   ]
  },
  {
   "cell_type": "markdown",
   "metadata": {},
   "source": [
    "## Implementing a simple GAN"
   ]
  },
  {
   "cell_type": "code",
   "execution_count": 2,
   "metadata": {},
   "outputs": [],
   "source": [
    "import torch\n",
    "import torchvision\n",
    "import torch.nn as nn\n",
    "import torch.nn.functional as F\n",
    "from torchvision import datasets\n",
    "from torchvision import transforms\n",
    "from torchvision.utils import save_image\n",
    "from torch.autograd import Variable\n",
    "from torchvision.datasets import MNIST\n",
    "from torch.utils.data import DataLoader\n",
    "import os\n",
    "\n",
    "import pylab as plt\n",
    "import numpy as np\n",
    "\n",
    "# from torch import nn"
   ]
  },
  {
   "cell_type": "code",
   "execution_count": 3,
   "metadata": {},
   "outputs": [
    {
     "name": "stdout",
     "output_type": "stream",
     "text": [
      "1.1.0\n"
     ]
    }
   ],
   "source": [
    "print(torch.__version__)"
   ]
  },
  {
   "cell_type": "code",
   "execution_count": 4,
   "metadata": {},
   "outputs": [],
   "source": [
    "import pathlib\n",
    "\n",
    "pathlib.Path(\"../results/08-generative-adversarial-networks\").mkdir(parents=True, exist_ok=True)\n",
    "pathlib.Path(\"../saved-mdls/08-generative-adversarial-networks\").mkdir(parents=True, exist_ok=True)"
   ]
  },
  {
   "cell_type": "code",
   "execution_count": 5,
   "metadata": {},
   "outputs": [],
   "source": [
    "num_epochs = 1\n",
    "bs = 128\n",
    "learning_rate = 0.0003\n",
    "\n",
    "fake_img_size = 100\n",
    "\n",
    "if torch.cuda.is_available():\n",
    "    device = 'cuda'\n",
    "else:\n",
    "    device = 'cpu'"
   ]
  },
  {
   "cell_type": "code",
   "execution_count": 6,
   "metadata": {},
   "outputs": [],
   "source": [
    "def toImg(x, mu=0.5, std=1):\n",
    "    \"\"\"Converts x to an image shape. It works for batches of inputs.\"\"\"\n",
    "    x = mu * (x + std)\n",
    "    x = x.clamp(0, 1)\n",
    "    x = x.view(x.size(0), 1, 28, 28)\n",
    "    return x"
   ]
  },
  {
   "cell_type": "markdown",
   "metadata": {},
   "source": [
    "## Get the data"
   ]
  },
  {
   "cell_type": "markdown",
   "metadata": {},
   "source": [
    "### Define some transforms to normalise the images  "
   ]
  },
  {
   "cell_type": "code",
   "execution_count": 7,
   "metadata": {},
   "outputs": [],
   "source": [
    "ds_mean = 0.1307\n",
    "ds_std = 0.3081\n",
    "\n",
    "img_transform = transforms.Compose([\n",
    "    transforms.ToTensor(),\n",
    "    transforms.Normalize(mean=(0.5, 0.5, 0.5), std=(0.5, 0.5, 0.5))\n",
    "#    transforms.Normalize((ds_mean,), (ds_std,)) # The first tuple (0.5, 0.5, 0.5) is the mean for all three channels and the second (0.5, 0.5, 0.5) is the standard deviation for all three channels.\n",
    "])"
   ]
  },
  {
   "cell_type": "code",
   "execution_count": 8,
   "metadata": {},
   "outputs": [],
   "source": [
    "train_ds = MNIST('./data', train=True, transform=img_transform, download=True)\n",
    "valid_ds = MNIST('./data', train=False, transform=img_transform, download=True)"
   ]
  },
  {
   "cell_type": "code",
   "execution_count": 9,
   "metadata": {},
   "outputs": [
    {
     "data": {
      "image/png": "[encoded data removed]",
      "text/plain": [
       "<Figure size 432x288 with 1 Axes>"
      ]
     },
     "metadata": {
      "needs_background": "light"
     },
     "output_type": "display_data"
    }
   ],
   "source": [
    "if torch.__version__ == '1.1.0':\n",
    "    plt.imshow(train_ds.train_data.data[1])\n",
    "else:\n",
    "    plt.imshow(train_ds.data)"
   ]
  },
  {
   "cell_type": "code",
   "execution_count": 10,
   "metadata": {},
   "outputs": [],
   "source": [
    "train_dl = DataLoader(train_ds, batch_size=bs, shuffle=True)\n",
    "valid_dl = DataLoader(valid_ds, batch_size=bs, shuffle=True)"
   ]
  },
  {
   "cell_type": "markdown",
   "metadata": {},
   "source": [
    "## Define the model "
   ]
  },
  {
   "cell_type": "markdown",
   "metadata": {},
   "source": [
    "Let's create the two competing networks, the generator:"
   ]
  },
  {
   "cell_type": "code",
   "execution_count": 11,
   "metadata": {},
   "outputs": [],
   "source": [
    "# Generator\n",
    "class Generator(nn.Module):\n",
    "    def __init__(self):\n",
    "        super(Generator, self).__init__()\n",
    "        \n",
    "        self.generator = nn.Sequential(\n",
    "            nn.Linear(fake_img_size, 256),\n",
    "            nn.ReLU(True),\n",
    "            nn.Linear(256, 256), \n",
    "            nn.ReLU(True), \n",
    "            nn.Linear(256, 784), \n",
    "            nn.Tanh())\n",
    "\n",
    "    def forward(self, x):\n",
    "        x = self.generator(x)\n",
    "        return x\n",
    "    "
   ]
  },
  {
   "cell_type": "markdown",
   "metadata": {},
   "source": [
    "And the discriminator:"
   ]
  },
  {
   "cell_type": "code",
   "execution_count": 12,
   "metadata": {},
   "outputs": [],
   "source": [
    "# Discriminator\n",
    "class Discriminator(nn.Module):\n",
    "    def __init__(self):\n",
    "        super(Discriminator, self).__init__()\n",
    "        self.discriminator = nn.Sequential(\n",
    "            nn.Linear(784, 256),\n",
    "            nn.LeakyReLU(0.2),\n",
    "            nn.Linear(256, 256),\n",
    "            nn.LeakyReLU(0.2), \n",
    "            nn.Linear(256, 1), \n",
    "            nn.Sigmoid())\n",
    "\n",
    "    def forward(self, x):\n",
    "        x = self.discriminator(x)\n",
    "        return x\n",
    "    "
   ]
  },
  {
   "cell_type": "markdown",
   "metadata": {},
   "source": [
    "And now we put everything together:"
   ]
  },
  {
   "cell_type": "code",
   "execution_count": 14,
   "metadata": {},
   "outputs": [],
   "source": [
    "Dnet = Discriminator()\n",
    "Gnet = Generator()\n",
    "\n",
    "if torch.cuda.is_available():\n",
    "    Dnet = Dnet.cuda()\n",
    "    Gnet = Gnet.cuda()\n",
    "    \n",
    "loss_fn = nn.BCELoss() # Binary cross entropy loss\n",
    "\n",
    "\n",
    "# We need to optimizers, one per network.\n",
    "d_optimizer = torch.optim.Adam(Dnet.parameters(), lr=learning_rate) #, momentum=0.9)\n",
    "g_optimizer = torch.optim.Adam(Gnet.parameters(), lr=learning_rate) # , momentum=0.9)\n"
   ]
  },
  {
   "cell_type": "markdown",
   "metadata": {},
   "source": [
    "## Train the model"
   ]
  },
  {
   "cell_type": "code",
   "execution_count": 16,
   "metadata": {},
   "outputs": [],
   "source": [
    "def make_some_noise(bs, outsize):\n",
    "    return torch.randn(bs, outsize)"
   ]
  },
  {
   "cell_type": "code",
   "execution_count": 17,
   "metadata": {},
   "outputs": [],
   "source": [
    "num_epochs = 100"
   ]
  },
  {
   "cell_type": "code",
   "execution_count": 20,
   "metadata": {
    "scrolled": false
   },
   "outputs": [
    {
     "name": "stdout",
     "output_type": "stream",
     "text": [
      "Epoch [0/100], d_loss: 0.424528, g_loss: 2.252787 DISC Real img: 0.881021, DISC fake img: 0.176782\n",
      "Epoch [0/100], d_loss: 1.053300, g_loss: 1.894525 DISC Real img: 0.736698, DISC fake img: 0.263714\n",
      "Epoch [0/100], d_loss: 0.295906, g_loss: 3.486203 DISC Real img: 0.907386, DISC fake img: 0.076886\n",
      "Epoch [0/100], d_loss: 0.438196, g_loss: 3.213243 DISC Real img: 0.848169, DISC fake img: 0.076060\n",
      "Epoch [0/100], saving a sample of real images.\n",
      "Epoch [1/100], d_loss: 0.214261, g_loss: 3.936929 DISC Real img: 0.932659, DISC fake img: 0.043150\n",
      "Epoch [1/100], d_loss: 0.299357, g_loss: 5.061038 DISC Real img: 0.909149, DISC fake img: 0.093833\n",
      "Epoch [1/100], d_loss: 0.160245, g_loss: 4.774524 DISC Real img: 0.935502, DISC fake img: 0.042899\n",
      "Epoch [1/100], d_loss: 0.200768, g_loss: 4.684272 DISC Real img: 0.923627, DISC fake img: 0.062076\n",
      "Epoch [2/100], d_loss: 0.890395, g_loss: 2.721568 DISC Real img: 0.774522, DISC fake img: 0.192272\n",
      "Epoch [2/100], d_loss: 0.411399, g_loss: 3.981195 DISC Real img: 0.879699, DISC fake img: 0.071385\n",
      "Epoch [2/100], d_loss: 0.563821, g_loss: 4.219886 DISC Real img: 0.855029, DISC fake img: 0.127142\n",
      "Epoch [2/100], d_loss: 0.355555, g_loss: 4.538383 DISC Real img: 0.905390, DISC fake img: 0.142417\n",
      "Epoch [3/100], d_loss: 0.385163, g_loss: 3.057004 DISC Real img: 0.884654, DISC fake img: 0.097658\n",
      "Epoch [3/100], d_loss: 0.552177, g_loss: 6.319005 DISC Real img: 0.825370, DISC fake img: 0.049242\n",
      "Epoch [3/100], d_loss: 0.260168, g_loss: 4.767914 DISC Real img: 0.901448, DISC fake img: 0.028298\n",
      "Epoch [3/100], d_loss: 0.202392, g_loss: 4.386174 DISC Real img: 0.914897, DISC fake img: 0.054555\n",
      "Epoch [4/100], d_loss: 0.351636, g_loss: 3.210921 DISC Real img: 0.879866, DISC fake img: 0.046273\n",
      "Epoch [4/100], d_loss: 0.204109, g_loss: 4.223854 DISC Real img: 0.945034, DISC fake img: 0.093246\n",
      "Epoch [4/100], d_loss: 0.579656, g_loss: 4.907063 DISC Real img: 0.860676, DISC fake img: 0.177337\n",
      "Epoch [4/100], d_loss: 0.486425, g_loss: 2.374599 DISC Real img: 0.853621, DISC fake img: 0.151833\n",
      "Epoch [5/100], d_loss: 0.535624, g_loss: 5.741584 DISC Real img: 0.877444, DISC fake img: 0.083681\n",
      "Epoch [5/100], d_loss: 0.362602, g_loss: 4.335292 DISC Real img: 0.938706, DISC fake img: 0.159778\n",
      "Epoch [5/100], d_loss: 0.171622, g_loss: 5.741983 DISC Real img: 0.977871, DISC fake img: 0.094757\n",
      "Epoch [5/100], d_loss: 0.267352, g_loss: 4.740924 DISC Real img: 0.947523, DISC fake img: 0.094051\n",
      "Epoch [6/100], d_loss: 0.238870, g_loss: 4.489130 DISC Real img: 0.972378, DISC fake img: 0.150513\n",
      "Epoch [6/100], d_loss: 0.270434, g_loss: 5.046549 DISC Real img: 0.904389, DISC fake img: 0.052935\n",
      "Epoch [6/100], d_loss: 0.333139, g_loss: 5.012926 DISC Real img: 0.883437, DISC fake img: 0.078032\n",
      "Epoch [6/100], d_loss: 0.409599, g_loss: 4.028957 DISC Real img: 0.864632, DISC fake img: 0.076606\n",
      "Epoch [7/100], d_loss: 0.168245, g_loss: 4.412499 DISC Real img: 0.941579, DISC fake img: 0.049158\n",
      "Epoch [7/100], d_loss: 0.493546, g_loss: 3.753195 DISC Real img: 0.896410, DISC fake img: 0.173263\n",
      "Epoch [7/100], d_loss: 0.569763, g_loss: 4.178539 DISC Real img: 0.826395, DISC fake img: 0.072849\n",
      "Epoch [7/100], d_loss: 0.258324, g_loss: 3.857717 DISC Real img: 0.939398, DISC fake img: 0.121106\n",
      "Epoch [8/100], d_loss: 0.709386, g_loss: 3.023496 DISC Real img: 0.761870, DISC fake img: 0.071904\n",
      "Epoch [8/100], d_loss: 0.686618, g_loss: 4.113488 DISC Real img: 0.843263, DISC fake img: 0.202661\n",
      "Epoch [8/100], d_loss: 0.295897, g_loss: 5.381093 DISC Real img: 0.889466, DISC fake img: 0.061062\n",
      "Epoch [8/100], d_loss: 0.305222, g_loss: 4.034369 DISC Real img: 0.909485, DISC fake img: 0.041947\n",
      "Epoch [9/100], d_loss: 0.275797, g_loss: 4.417035 DISC Real img: 0.921833, DISC fake img: 0.099200\n",
      "Epoch [9/100], d_loss: 0.656174, g_loss: 4.562008 DISC Real img: 0.865007, DISC fake img: 0.160872\n",
      "Epoch [9/100], d_loss: 0.353317, g_loss: 4.067642 DISC Real img: 0.937874, DISC fake img: 0.168868\n",
      "Epoch [9/100], d_loss: 0.502160, g_loss: 4.789575 DISC Real img: 0.879143, DISC fake img: 0.122281\n",
      "Epoch [10/100], d_loss: 0.347541, g_loss: 3.774623 DISC Real img: 0.897909, DISC fake img: 0.126972\n",
      "Epoch [10/100], d_loss: 0.201830, g_loss: 6.033574 DISC Real img: 0.927709, DISC fake img: 0.064977\n",
      "Epoch [10/100], d_loss: 0.114688, g_loss: 4.929394 DISC Real img: 0.977154, DISC fake img: 0.069856\n",
      "Epoch [10/100], d_loss: 0.437364, g_loss: 4.098330 DISC Real img: 0.844605, DISC fake img: 0.085893\n",
      "Epoch [11/100], d_loss: 0.323094, g_loss: 4.876093 DISC Real img: 0.913448, DISC fake img: 0.067179\n",
      "Epoch [11/100], d_loss: 0.414014, g_loss: 4.360866 DISC Real img: 0.902112, DISC fake img: 0.152644\n",
      "Epoch [11/100], d_loss: 0.329441, g_loss: 4.742013 DISC Real img: 0.902925, DISC fake img: 0.092334\n",
      "Epoch [11/100], d_loss: 0.225175, g_loss: 4.263715 DISC Real img: 0.916472, DISC fake img: 0.045053\n",
      "Epoch [12/100], d_loss: 0.514296, g_loss: 5.292797 DISC Real img: 0.922334, DISC fake img: 0.178637\n",
      "Epoch [12/100], d_loss: 0.508410, g_loss: 4.172395 DISC Real img: 0.853982, DISC fake img: 0.111542\n",
      "Epoch [12/100], d_loss: 0.260314, g_loss: 4.995341 DISC Real img: 0.924726, DISC fake img: 0.075433\n",
      "Epoch [12/100], d_loss: 0.410482, g_loss: 4.094912 DISC Real img: 0.871778, DISC fake img: 0.114995\n",
      "Epoch [13/100], d_loss: 0.155316, g_loss: 4.032152 DISC Real img: 0.948181, DISC fake img: 0.058537\n",
      "Epoch [13/100], d_loss: 0.162333, g_loss: 4.380352 DISC Real img: 0.963613, DISC fake img: 0.070113\n",
      "Epoch [13/100], d_loss: 0.361491, g_loss: 2.921332 DISC Real img: 0.869366, DISC fake img: 0.081559\n",
      "Epoch [13/100], d_loss: 0.265135, g_loss: 3.683442 DISC Real img: 0.928220, DISC fake img: 0.111760\n",
      "Epoch [14/100], d_loss: 0.304066, g_loss: 4.218807 DISC Real img: 0.881853, DISC fake img: 0.053109\n",
      "Epoch [14/100], d_loss: 0.169123, g_loss: 4.467228 DISC Real img: 0.941829, DISC fake img: 0.077472\n",
      "Epoch [14/100], d_loss: 0.492749, g_loss: 2.087142 DISC Real img: 0.854966, DISC fake img: 0.165122\n",
      "Epoch [14/100], d_loss: 0.473172, g_loss: 3.708865 DISC Real img: 0.880790, DISC fake img: 0.182903\n",
      "Epoch [15/100], d_loss: 1.048773, g_loss: 2.388858 DISC Real img: 0.769035, DISC fake img: 0.161078\n",
      "Epoch [15/100], d_loss: 0.627161, g_loss: 4.188266 DISC Real img: 0.806171, DISC fake img: 0.134319\n",
      "Epoch [15/100], d_loss: 0.434790, g_loss: 3.384739 DISC Real img: 0.886568, DISC fake img: 0.151262\n",
      "Epoch [15/100], d_loss: 0.294428, g_loss: 4.274466 DISC Real img: 0.890480, DISC fake img: 0.063821\n",
      "Epoch [16/100], d_loss: 0.557841, g_loss: 3.119029 DISC Real img: 0.865588, DISC fake img: 0.173063\n",
      "Epoch [16/100], d_loss: 0.391662, g_loss: 4.160458 DISC Real img: 0.865448, DISC fake img: 0.082014\n",
      "Epoch [16/100], d_loss: 0.494619, g_loss: 2.787113 DISC Real img: 0.837791, DISC fake img: 0.117223\n",
      "Epoch [16/100], d_loss: 0.340658, g_loss: 3.720533 DISC Real img: 0.878355, DISC fake img: 0.110277\n",
      "Epoch [17/100], d_loss: 0.548310, g_loss: 3.348478 DISC Real img: 0.831871, DISC fake img: 0.117162\n",
      "Epoch [17/100], d_loss: 0.603984, g_loss: 3.074963 DISC Real img: 0.824406, DISC fake img: 0.138188\n",
      "Epoch [17/100], d_loss: 0.646284, g_loss: 3.304119 DISC Real img: 0.851578, DISC fake img: 0.215102\n",
      "Epoch [17/100], d_loss: 0.249730, g_loss: 4.941403 DISC Real img: 0.919609, DISC fake img: 0.067162\n",
      "Epoch [18/100], d_loss: 0.424831, g_loss: 2.420299 DISC Real img: 0.870316, DISC fake img: 0.118954\n",
      "Epoch [18/100], d_loss: 0.365415, g_loss: 4.028782 DISC Real img: 0.855670, DISC fake img: 0.052009\n",
      "Epoch [18/100], d_loss: 0.516197, g_loss: 2.645721 DISC Real img: 0.837291, DISC fake img: 0.139351\n",
      "Epoch [18/100], d_loss: 0.595486, g_loss: 3.448168 DISC Real img: 0.818793, DISC fake img: 0.144715\n",
      "Epoch [19/100], d_loss: 0.475414, g_loss: 5.581703 DISC Real img: 0.843425, DISC fake img: 0.051728\n",
      "Epoch [19/100], d_loss: 0.307256, g_loss: 3.424599 DISC Real img: 0.898214, DISC fake img: 0.106658\n",
      "Epoch [19/100], d_loss: 0.380545, g_loss: 3.687322 DISC Real img: 0.875834, DISC fake img: 0.096742\n",
      "Epoch [19/100], d_loss: 0.378762, g_loss: 4.405543 DISC Real img: 0.893115, DISC fake img: 0.076167\n",
      "Epoch [20/100], d_loss: 0.545823, g_loss: 3.313014 DISC Real img: 0.859626, DISC fake img: 0.149777\n",
      "Epoch [20/100], d_loss: 0.532843, g_loss: 3.388423 DISC Real img: 0.784006, DISC fake img: 0.068312\n"
     ]
    },
    {
     "name": "stdout",
     "output_type": "stream",
     "text": [
      "Epoch [20/100], d_loss: 0.439884, g_loss: 3.891703 DISC Real img: 0.846914, DISC fake img: 0.081569\n",
      "Epoch [20/100], d_loss: 0.566535, g_loss: 4.469088 DISC Real img: 0.830451, DISC fake img: 0.107427\n",
      "Epoch [21/100], d_loss: 0.224628, g_loss: 5.206778 DISC Real img: 0.937453, DISC fake img: 0.096075\n",
      "Epoch [21/100], d_loss: 0.423582, g_loss: 3.508548 DISC Real img: 0.875578, DISC fake img: 0.115339\n",
      "Epoch [21/100], d_loss: 0.437979, g_loss: 2.103335 DISC Real img: 0.880889, DISC fake img: 0.155936\n",
      "Epoch [21/100], d_loss: 0.586760, g_loss: 2.661325 DISC Real img: 0.847386, DISC fake img: 0.147860\n",
      "Epoch [22/100], d_loss: 0.483141, g_loss: 3.928711 DISC Real img: 0.834755, DISC fake img: 0.090883\n",
      "Epoch [22/100], d_loss: 0.303190, g_loss: 3.988225 DISC Real img: 0.884667, DISC fake img: 0.088099\n",
      "Epoch [22/100], d_loss: 0.510553, g_loss: 3.185476 DISC Real img: 0.809855, DISC fake img: 0.101547\n",
      "Epoch [22/100], d_loss: 0.299616, g_loss: 4.596398 DISC Real img: 0.895371, DISC fake img: 0.085981\n",
      "Epoch [23/100], d_loss: 0.448781, g_loss: 3.394233 DISC Real img: 0.855134, DISC fake img: 0.118030\n",
      "Epoch [23/100], d_loss: 0.437697, g_loss: 3.172169 DISC Real img: 0.862792, DISC fake img: 0.092418\n",
      "Epoch [23/100], d_loss: 0.468032, g_loss: 3.614348 DISC Real img: 0.887210, DISC fake img: 0.156269\n",
      "Epoch [23/100], d_loss: 0.319813, g_loss: 3.711755 DISC Real img: 0.912438, DISC fake img: 0.133074\n",
      "Epoch [24/100], d_loss: 0.300738, g_loss: 3.777316 DISC Real img: 0.902049, DISC fake img: 0.094065\n",
      "Epoch [24/100], d_loss: 0.360351, g_loss: 3.613148 DISC Real img: 0.925589, DISC fake img: 0.165353\n",
      "Epoch [24/100], d_loss: 0.499192, g_loss: 3.637074 DISC Real img: 0.835586, DISC fake img: 0.107401\n",
      "Epoch [24/100], d_loss: 0.328363, g_loss: 2.797823 DISC Real img: 0.892634, DISC fake img: 0.091371\n",
      "Epoch [25/100], d_loss: 0.549126, g_loss: 3.908877 DISC Real img: 0.905702, DISC fake img: 0.206704\n",
      "Epoch [25/100], d_loss: 0.323194, g_loss: 4.675491 DISC Real img: 0.890975, DISC fake img: 0.085355\n",
      "Epoch [25/100], d_loss: 0.424786, g_loss: 3.435778 DISC Real img: 0.883908, DISC fake img: 0.140792\n",
      "Epoch [25/100], d_loss: 0.319079, g_loss: 4.231243 DISC Real img: 0.887946, DISC fake img: 0.095222\n",
      "Epoch [26/100], d_loss: 0.285594, g_loss: 3.387823 DISC Real img: 0.946556, DISC fake img: 0.145029\n",
      "Epoch [26/100], d_loss: 0.172545, g_loss: 3.657697 DISC Real img: 0.951712, DISC fake img: 0.084496\n",
      "Epoch [26/100], d_loss: 0.311361, g_loss: 4.194281 DISC Real img: 0.885073, DISC fake img: 0.096936\n",
      "Epoch [26/100], d_loss: 0.701226, g_loss: 2.937255 DISC Real img: 0.828400, DISC fake img: 0.168503\n",
      "Epoch [27/100], d_loss: 0.293508, g_loss: 3.391091 DISC Real img: 0.958821, DISC fake img: 0.176048\n",
      "Epoch [27/100], d_loss: 0.401404, g_loss: 2.798762 DISC Real img: 0.891446, DISC fake img: 0.139769\n",
      "Epoch [27/100], d_loss: 0.441756, g_loss: 3.801756 DISC Real img: 0.847685, DISC fake img: 0.118199\n",
      "Epoch [27/100], d_loss: 0.332695, g_loss: 3.432662 DISC Real img: 0.931723, DISC fake img: 0.169746\n",
      "Epoch [28/100], d_loss: 0.497576, g_loss: 3.516072 DISC Real img: 0.926846, DISC fake img: 0.233865\n",
      "Epoch [28/100], d_loss: 0.562330, g_loss: 3.511622 DISC Real img: 0.838609, DISC fake img: 0.150338\n",
      "Epoch [28/100], d_loss: 0.386079, g_loss: 2.667669 DISC Real img: 0.875697, DISC fake img: 0.133409\n",
      "Epoch [28/100], d_loss: 0.457980, g_loss: 2.947571 DISC Real img: 0.803769, DISC fake img: 0.073748\n",
      "Epoch [29/100], d_loss: 0.527637, g_loss: 3.124191 DISC Real img: 0.844475, DISC fake img: 0.151385\n",
      "Epoch [29/100], d_loss: 0.503269, g_loss: 2.363628 DISC Real img: 0.894124, DISC fake img: 0.214543\n",
      "Epoch [29/100], d_loss: 0.413041, g_loss: 3.419029 DISC Real img: 0.842684, DISC fake img: 0.096960\n",
      "Epoch [29/100], d_loss: 0.380998, g_loss: 3.012048 DISC Real img: 0.877770, DISC fake img: 0.134141\n",
      "Epoch [30/100], d_loss: 0.372263, g_loss: 3.683850 DISC Real img: 0.924252, DISC fake img: 0.195307\n",
      "Epoch [30/100], d_loss: 0.628907, g_loss: 2.911441 DISC Real img: 0.803500, DISC fake img: 0.121924\n",
      "Epoch [30/100], d_loss: 0.503971, g_loss: 3.734007 DISC Real img: 0.851081, DISC fake img: 0.178836\n",
      "Epoch [30/100], d_loss: 0.574076, g_loss: 3.876297 DISC Real img: 0.791047, DISC fake img: 0.070752\n",
      "Epoch [31/100], d_loss: 0.529448, g_loss: 3.156633 DISC Real img: 0.835454, DISC fake img: 0.122316\n",
      "Epoch [31/100], d_loss: 0.364259, g_loss: 3.218684 DISC Real img: 0.865680, DISC fake img: 0.120659\n",
      "Epoch [31/100], d_loss: 0.747895, g_loss: 3.090160 DISC Real img: 0.705782, DISC fake img: 0.074246\n",
      "Epoch [31/100], d_loss: 0.584333, g_loss: 3.159480 DISC Real img: 0.806924, DISC fake img: 0.101031\n",
      "Epoch [32/100], d_loss: 0.378025, g_loss: 3.447708 DISC Real img: 0.908777, DISC fake img: 0.169500\n",
      "Epoch [32/100], d_loss: 0.317781, g_loss: 3.160334 DISC Real img: 0.924046, DISC fake img: 0.142692\n",
      "Epoch [32/100], d_loss: 0.344398, g_loss: 2.773741 DISC Real img: 0.921188, DISC fake img: 0.149373\n",
      "Epoch [32/100], d_loss: 0.476715, g_loss: 3.175770 DISC Real img: 0.791938, DISC fake img: 0.092111\n",
      "Epoch [33/100], d_loss: 0.529822, g_loss: 2.337799 DISC Real img: 0.840796, DISC fake img: 0.171395\n",
      "Epoch [33/100], d_loss: 0.502927, g_loss: 2.754826 DISC Real img: 0.910544, DISC fake img: 0.214154\n",
      "Epoch [33/100], d_loss: 0.510733, g_loss: 2.410817 DISC Real img: 0.862487, DISC fake img: 0.189665\n",
      "Epoch [33/100], d_loss: 0.526679, g_loss: 3.185095 DISC Real img: 0.782240, DISC fake img: 0.097325\n",
      "Epoch [34/100], d_loss: 0.414644, g_loss: 2.421091 DISC Real img: 0.910605, DISC fake img: 0.203195\n",
      "Epoch [34/100], d_loss: 0.770307, g_loss: 1.489693 DISC Real img: 0.823553, DISC fake img: 0.282366\n",
      "Epoch [34/100], d_loss: 0.581164, g_loss: 2.371711 DISC Real img: 0.793918, DISC fake img: 0.133928\n",
      "Epoch [34/100], d_loss: 0.467203, g_loss: 2.796772 DISC Real img: 0.879116, DISC fake img: 0.171392\n",
      "Epoch [35/100], d_loss: 0.380615, g_loss: 3.317210 DISC Real img: 0.874248, DISC fake img: 0.139070\n",
      "Epoch [35/100], d_loss: 0.453544, g_loss: 3.484418 DISC Real img: 0.877288, DISC fake img: 0.156627\n",
      "Epoch [35/100], d_loss: 0.307655, g_loss: 2.583429 DISC Real img: 0.889402, DISC fake img: 0.106147\n",
      "Epoch [35/100], d_loss: 0.442798, g_loss: 4.197955 DISC Real img: 0.863720, DISC fake img: 0.151499\n",
      "Epoch [36/100], d_loss: 0.672924, g_loss: 2.264181 DISC Real img: 0.847663, DISC fake img: 0.268014\n",
      "Epoch [36/100], d_loss: 0.616757, g_loss: 3.016625 DISC Real img: 0.918856, DISC fake img: 0.269065\n",
      "Epoch [36/100], d_loss: 0.629365, g_loss: 3.580996 DISC Real img: 0.766325, DISC fake img: 0.106205\n",
      "Epoch [36/100], d_loss: 0.469176, g_loss: 2.953991 DISC Real img: 0.947683, DISC fake img: 0.240958\n",
      "Epoch [37/100], d_loss: 0.586883, g_loss: 2.477050 DISC Real img: 0.843814, DISC fake img: 0.186780\n",
      "Epoch [37/100], d_loss: 0.462373, g_loss: 2.897503 DISC Real img: 0.835326, DISC fake img: 0.128693\n",
      "Epoch [37/100], d_loss: 0.782175, g_loss: 2.116856 DISC Real img: 0.843396, DISC fake img: 0.295692\n",
      "Epoch [37/100], d_loss: 0.440315, g_loss: 2.770850 DISC Real img: 0.869156, DISC fake img: 0.168100\n",
      "Epoch [38/100], d_loss: 0.477930, g_loss: 3.830237 DISC Real img: 0.844998, DISC fake img: 0.146682\n",
      "Epoch [38/100], d_loss: 0.436290, g_loss: 2.946158 DISC Real img: 0.891589, DISC fake img: 0.182117\n",
      "Epoch [38/100], d_loss: 0.458319, g_loss: 2.693453 DISC Real img: 0.864711, DISC fake img: 0.167962\n",
      "Epoch [38/100], d_loss: 0.397582, g_loss: 3.287765 DISC Real img: 0.856009, DISC fake img: 0.134512\n",
      "Epoch [39/100], d_loss: 0.725583, g_loss: 2.261640 DISC Real img: 0.780790, DISC fake img: 0.190617\n",
      "Epoch [39/100], d_loss: 0.566965, g_loss: 2.685066 DISC Real img: 0.834614, DISC fake img: 0.158813\n",
      "Epoch [39/100], d_loss: 0.584848, g_loss: 2.188324 DISC Real img: 0.765555, DISC fake img: 0.115730\n",
      "Epoch [39/100], d_loss: 0.553316, g_loss: 3.039465 DISC Real img: 0.805523, DISC fake img: 0.131455\n",
      "Epoch [40/100], d_loss: 0.614137, g_loss: 3.305727 DISC Real img: 0.808975, DISC fake img: 0.157675\n",
      "Epoch [40/100], d_loss: 0.683018, g_loss: 2.944162 DISC Real img: 0.836103, DISC fake img: 0.232858\n",
      "Epoch [40/100], d_loss: 0.598936, g_loss: 3.137748 DISC Real img: 0.751544, DISC fake img: 0.092627\n",
      "Epoch [40/100], d_loss: 0.836192, g_loss: 2.767227 DISC Real img: 0.722806, DISC fake img: 0.197518\n"
     ]
    },
    {
     "name": "stdout",
     "output_type": "stream",
     "text": [
      "Epoch [41/100], d_loss: 0.674481, g_loss: 2.514789 DISC Real img: 0.759397, DISC fake img: 0.197681\n",
      "Epoch [41/100], d_loss: 0.556177, g_loss: 2.967801 DISC Real img: 0.812357, DISC fake img: 0.146901\n",
      "Epoch [41/100], d_loss: 0.684363, g_loss: 3.370574 DISC Real img: 0.744692, DISC fake img: 0.100284\n",
      "Epoch [41/100], d_loss: 0.434879, g_loss: 2.943501 DISC Real img: 0.819179, DISC fake img: 0.120291\n",
      "Epoch [42/100], d_loss: 0.352778, g_loss: 3.155353 DISC Real img: 0.882804, DISC fake img: 0.132586\n",
      "Epoch [42/100], d_loss: 0.711110, g_loss: 2.593189 DISC Real img: 0.769609, DISC fake img: 0.149619\n",
      "Epoch [42/100], d_loss: 0.585647, g_loss: 2.712711 DISC Real img: 0.824157, DISC fake img: 0.208452\n",
      "Epoch [42/100], d_loss: 0.727605, g_loss: 2.393080 DISC Real img: 0.731138, DISC fake img: 0.101890\n",
      "Epoch [43/100], d_loss: 0.605551, g_loss: 3.149654 DISC Real img: 0.788011, DISC fake img: 0.118324\n",
      "Epoch [43/100], d_loss: 0.602683, g_loss: 2.717774 DISC Real img: 0.811976, DISC fake img: 0.174113\n",
      "Epoch [43/100], d_loss: 0.877274, g_loss: 2.068027 DISC Real img: 0.797648, DISC fake img: 0.313569\n",
      "Epoch [43/100], d_loss: 0.552981, g_loss: 2.838216 DISC Real img: 0.794635, DISC fake img: 0.157080\n",
      "Epoch [44/100], d_loss: 0.627213, g_loss: 2.668255 DISC Real img: 0.828513, DISC fake img: 0.228531\n",
      "Epoch [44/100], d_loss: 0.637262, g_loss: 2.070061 DISC Real img: 0.765454, DISC fake img: 0.143425\n",
      "Epoch [44/100], d_loss: 0.594996, g_loss: 3.481083 DISC Real img: 0.753108, DISC fake img: 0.094110\n",
      "Epoch [44/100], d_loss: 0.638540, g_loss: 2.417440 DISC Real img: 0.801313, DISC fake img: 0.185356\n",
      "Epoch [45/100], d_loss: 0.616572, g_loss: 2.684816 DISC Real img: 0.789252, DISC fake img: 0.170023\n",
      "Epoch [45/100], d_loss: 0.550020, g_loss: 2.516421 DISC Real img: 0.799298, DISC fake img: 0.135899\n",
      "Epoch [45/100], d_loss: 0.747747, g_loss: 2.255831 DISC Real img: 0.787621, DISC fake img: 0.273463\n",
      "Epoch [45/100], d_loss: 0.774193, g_loss: 2.358490 DISC Real img: 0.824287, DISC fake img: 0.278557\n",
      "Epoch [46/100], d_loss: 0.455161, g_loss: 2.522925 DISC Real img: 0.846222, DISC fake img: 0.179992\n",
      "Epoch [46/100], d_loss: 0.645626, g_loss: 2.104220 DISC Real img: 0.854798, DISC fake img: 0.274840\n",
      "Epoch [46/100], d_loss: 0.586030, g_loss: 2.516607 DISC Real img: 0.811993, DISC fake img: 0.215770\n",
      "Epoch [46/100], d_loss: 0.881653, g_loss: 1.884708 DISC Real img: 0.730721, DISC fake img: 0.179884\n",
      "Epoch [47/100], d_loss: 0.541815, g_loss: 2.457849 DISC Real img: 0.828573, DISC fake img: 0.190252\n",
      "Epoch [47/100], d_loss: 0.601683, g_loss: 2.993592 DISC Real img: 0.794235, DISC fake img: 0.155492\n",
      "Epoch [47/100], d_loss: 0.474363, g_loss: 2.835643 DISC Real img: 0.886035, DISC fake img: 0.198567\n",
      "Epoch [47/100], d_loss: 0.719987, g_loss: 2.518501 DISC Real img: 0.827908, DISC fake img: 0.241889\n",
      "Epoch [48/100], d_loss: 0.466446, g_loss: 2.894532 DISC Real img: 0.825837, DISC fake img: 0.123155\n",
      "Epoch [48/100], d_loss: 0.675973, g_loss: 3.069112 DISC Real img: 0.783533, DISC fake img: 0.173457\n",
      "Epoch [48/100], d_loss: 0.539174, g_loss: 2.513505 DISC Real img: 0.834004, DISC fake img: 0.177715\n",
      "Epoch [48/100], d_loss: 0.562429, g_loss: 2.642130 DISC Real img: 0.811833, DISC fake img: 0.152531\n",
      "Epoch [49/100], d_loss: 0.660820, g_loss: 2.306590 DISC Real img: 0.865861, DISC fake img: 0.290294\n",
      "Epoch [49/100], d_loss: 0.612698, g_loss: 2.771401 DISC Real img: 0.827577, DISC fake img: 0.183602\n",
      "Epoch [49/100], d_loss: 0.577126, g_loss: 3.408057 DISC Real img: 0.867536, DISC fake img: 0.217233\n",
      "Epoch [49/100], d_loss: 0.642264, g_loss: 2.892657 DISC Real img: 0.830703, DISC fake img: 0.259287\n",
      "Epoch [53/100], d_loss: 0.647979, g_loss: 2.684697 DISC Real img: 0.844111, DISC fake img: 0.262956\n",
      "Epoch [53/100], d_loss: 0.777371, g_loss: 2.514738 DISC Real img: 0.863484, DISC fake img: 0.330971\n",
      "Epoch [54/100], d_loss: 0.549425, g_loss: 2.267999 DISC Real img: 0.852330, DISC fake img: 0.214724\n",
      "Epoch [54/100], d_loss: 0.391879, g_loss: 3.172352 DISC Real img: 0.864453, DISC fake img: 0.132671\n",
      "Epoch [54/100], d_loss: 0.676359, g_loss: 2.200568 DISC Real img: 0.861719, DISC fake img: 0.312865\n",
      "Epoch [54/100], d_loss: 0.490903, g_loss: 1.652004 DISC Real img: 0.892678, DISC fake img: 0.227717\n",
      "Epoch [55/100], d_loss: 0.764485, g_loss: 2.687393 DISC Real img: 0.738157, DISC fake img: 0.201252\n",
      "Epoch [55/100], d_loss: 0.373761, g_loss: 2.816729 DISC Real img: 0.915387, DISC fake img: 0.200543\n",
      "Epoch [55/100], d_loss: 0.663575, g_loss: 2.203383 DISC Real img: 0.819048, DISC fake img: 0.247997\n",
      "Epoch [55/100], d_loss: 0.758368, g_loss: 2.410277 DISC Real img: 0.853354, DISC fake img: 0.306585\n",
      "Epoch [56/100], d_loss: 0.721503, g_loss: 2.334078 DISC Real img: 0.750436, DISC fake img: 0.196576\n",
      "Epoch [56/100], d_loss: 0.702963, g_loss: 2.012352 DISC Real img: 0.762496, DISC fake img: 0.209721\n",
      "Epoch [56/100], d_loss: 0.639950, g_loss: 3.025891 DISC Real img: 0.746384, DISC fake img: 0.125714\n",
      "Epoch [56/100], d_loss: 0.545198, g_loss: 2.561867 DISC Real img: 0.817237, DISC fake img: 0.164973\n",
      "Epoch [57/100], d_loss: 0.581917, g_loss: 2.776581 DISC Real img: 0.937003, DISC fake img: 0.317869\n",
      "Epoch [57/100], d_loss: 0.494696, g_loss: 2.131789 DISC Real img: 0.903181, DISC fake img: 0.246587\n",
      "Epoch [57/100], d_loss: 0.790369, g_loss: 1.926012 DISC Real img: 0.719474, DISC fake img: 0.185600\n",
      "Epoch [57/100], d_loss: 0.635621, g_loss: 2.110687 DISC Real img: 0.810909, DISC fake img: 0.218712\n",
      "Epoch [58/100], d_loss: 0.521339, g_loss: 2.840216 DISC Real img: 0.834675, DISC fake img: 0.174889\n",
      "Epoch [58/100], d_loss: 0.424919, g_loss: 3.016294 DISC Real img: 0.820415, DISC fake img: 0.118551\n",
      "Epoch [58/100], d_loss: 0.605381, g_loss: 3.059387 DISC Real img: 0.841774, DISC fake img: 0.239769\n",
      "Epoch [58/100], d_loss: 0.414957, g_loss: 2.420203 DISC Real img: 0.913525, DISC fake img: 0.203661\n",
      "Epoch [59/100], d_loss: 0.732781, g_loss: 2.645239 DISC Real img: 0.848066, DISC fake img: 0.275273\n",
      "Epoch [59/100], d_loss: 0.644953, g_loss: 2.375378 DISC Real img: 0.746216, DISC fake img: 0.148353\n",
      "Epoch [59/100], d_loss: 0.756154, g_loss: 2.233384 DISC Real img: 0.812399, DISC fake img: 0.266447\n",
      "Epoch [59/100], d_loss: 0.528047, g_loss: 2.291423 DISC Real img: 0.797417, DISC fake img: 0.142441\n",
      "Epoch [60/100], d_loss: 0.538916, g_loss: 3.270094 DISC Real img: 0.815817, DISC fake img: 0.137875\n",
      "Epoch [60/100], d_loss: 0.511628, g_loss: 2.189162 DISC Real img: 0.888967, DISC fake img: 0.227744\n",
      "Epoch [60/100], d_loss: 0.685243, g_loss: 2.856558 DISC Real img: 0.763289, DISC fake img: 0.192164\n",
      "Epoch [60/100], d_loss: 0.594747, g_loss: 3.015479 DISC Real img: 0.795964, DISC fake img: 0.156516\n",
      "Epoch [61/100], d_loss: 0.669182, g_loss: 2.786315 DISC Real img: 0.794483, DISC fake img: 0.210111\n",
      "Epoch [61/100], d_loss: 0.649413, g_loss: 1.642849 DISC Real img: 0.822248, DISC fake img: 0.242187\n",
      "Epoch [61/100], d_loss: 0.562759, g_loss: 2.665334 DISC Real img: 0.800470, DISC fake img: 0.176375\n",
      "Epoch [61/100], d_loss: 0.613069, g_loss: 2.639431 DISC Real img: 0.822349, DISC fake img: 0.225035\n",
      "Epoch [62/100], d_loss: 0.572277, g_loss: 2.505404 DISC Real img: 0.836832, DISC fake img: 0.232697\n",
      "Epoch [62/100], d_loss: 0.820607, g_loss: 1.785698 DISC Real img: 0.818078, DISC fake img: 0.311765\n",
      "Epoch [62/100], d_loss: 0.691117, g_loss: 2.480918 DISC Real img: 0.800092, DISC fake img: 0.226774\n",
      "Epoch [62/100], d_loss: 0.692050, g_loss: 2.275215 DISC Real img: 0.739553, DISC fake img: 0.171054\n",
      "Epoch [63/100], d_loss: 0.693142, g_loss: 1.752154 DISC Real img: 0.778439, DISC fake img: 0.234704\n",
      "Epoch [63/100], d_loss: 0.545853, g_loss: 2.361683 DISC Real img: 0.813607, DISC fake img: 0.181014\n",
      "Epoch [63/100], d_loss: 0.708356, g_loss: 2.185659 DISC Real img: 0.814269, DISC fake img: 0.277080\n",
      "Epoch [63/100], d_loss: 0.469918, g_loss: 2.695433 DISC Real img: 0.832227, DISC fake img: 0.142623\n",
      "Epoch [64/100], d_loss: 0.695352, g_loss: 2.291471 DISC Real img: 0.740057, DISC fake img: 0.136965\n",
      "Epoch [64/100], d_loss: 0.536619, g_loss: 2.941518 DISC Real img: 0.768327, DISC fake img: 0.122481\n",
      "Epoch [64/100], d_loss: 0.842204, g_loss: 2.490044 DISC Real img: 0.733816, DISC fake img: 0.201908\n",
      "Epoch [64/100], d_loss: 0.562885, g_loss: 1.747987 DISC Real img: 0.843972, DISC fake img: 0.258515\n"
     ]
    },
    {
     "name": "stdout",
     "output_type": "stream",
     "text": [
      "Epoch [65/100], d_loss: 0.694315, g_loss: 2.203867 DISC Real img: 0.746835, DISC fake img: 0.185899\n",
      "Epoch [65/100], d_loss: 0.934770, g_loss: 1.657416 DISC Real img: 0.723196, DISC fake img: 0.280901\n",
      "Epoch [65/100], d_loss: 0.640320, g_loss: 2.030287 DISC Real img: 0.746882, DISC fake img: 0.169034\n",
      "Epoch [65/100], d_loss: 0.700595, g_loss: 1.992849 DISC Real img: 0.760686, DISC fake img: 0.214097\n",
      "Epoch [66/100], d_loss: 0.581850, g_loss: 2.546930 DISC Real img: 0.761260, DISC fake img: 0.130444\n",
      "Epoch [66/100], d_loss: 0.818540, g_loss: 2.821317 DISC Real img: 0.691697, DISC fake img: 0.172048\n",
      "Epoch [66/100], d_loss: 0.856859, g_loss: 1.688227 DISC Real img: 0.731201, DISC fake img: 0.239426\n",
      "Epoch [66/100], d_loss: 0.786519, g_loss: 2.179937 DISC Real img: 0.755092, DISC fake img: 0.232087\n",
      "Epoch [67/100], d_loss: 0.860745, g_loss: 2.160988 DISC Real img: 0.728883, DISC fake img: 0.220368\n",
      "Epoch [67/100], d_loss: 0.629593, g_loss: 1.801035 DISC Real img: 0.748139, DISC fake img: 0.147606\n",
      "Epoch [67/100], d_loss: 0.787192, g_loss: 1.730876 DISC Real img: 0.821415, DISC fake img: 0.324739\n",
      "Epoch [67/100], d_loss: 0.458523, g_loss: 2.118642 DISC Real img: 0.846570, DISC fake img: 0.170988\n",
      "Epoch [68/100], d_loss: 0.770843, g_loss: 1.748675 DISC Real img: 0.805018, DISC fake img: 0.292240\n",
      "Epoch [68/100], d_loss: 0.705725, g_loss: 2.306535 DISC Real img: 0.752783, DISC fake img: 0.222811\n",
      "Epoch [68/100], d_loss: 0.932326, g_loss: 1.469827 DISC Real img: 0.780224, DISC fake img: 0.331514\n",
      "Epoch [68/100], d_loss: 0.757726, g_loss: 2.718744 DISC Real img: 0.713899, DISC fake img: 0.183501\n",
      "Epoch [69/100], d_loss: 0.816430, g_loss: 2.080397 DISC Real img: 0.748751, DISC fake img: 0.247243\n",
      "Epoch [69/100], d_loss: 0.652130, g_loss: 2.474924 DISC Real img: 0.799973, DISC fake img: 0.227220\n",
      "Epoch [69/100], d_loss: 0.610765, g_loss: 2.779998 DISC Real img: 0.804396, DISC fake img: 0.188951\n",
      "Epoch [69/100], d_loss: 0.510169, g_loss: 2.328027 DISC Real img: 0.844800, DISC fake img: 0.212127\n",
      "Epoch [70/100], d_loss: 0.707972, g_loss: 2.089150 DISC Real img: 0.747232, DISC fake img: 0.182218\n",
      "Epoch [70/100], d_loss: 0.786563, g_loss: 1.828433 DISC Real img: 0.789346, DISC fake img: 0.290865\n",
      "Epoch [70/100], d_loss: 0.655342, g_loss: 2.789075 DISC Real img: 0.797372, DISC fake img: 0.237177\n",
      "Epoch [70/100], d_loss: 0.611646, g_loss: 2.623044 DISC Real img: 0.774466, DISC fake img: 0.175388\n",
      "Epoch [71/100], d_loss: 1.003878, g_loss: 2.346417 DISC Real img: 0.704029, DISC fake img: 0.298482\n",
      "Epoch [71/100], d_loss: 0.711670, g_loss: 2.577302 DISC Real img: 0.740278, DISC fake img: 0.170849\n",
      "Epoch [71/100], d_loss: 0.906941, g_loss: 2.249563 DISC Real img: 0.640330, DISC fake img: 0.156015\n",
      "Epoch [71/100], d_loss: 0.603519, g_loss: 2.157856 DISC Real img: 0.788276, DISC fake img: 0.175524\n",
      "Epoch [72/100], d_loss: 0.592714, g_loss: 2.607252 DISC Real img: 0.853973, DISC fake img: 0.235911\n",
      "Epoch [72/100], d_loss: 0.660237, g_loss: 1.881093 DISC Real img: 0.770046, DISC fake img: 0.182809\n",
      "Epoch [72/100], d_loss: 0.914191, g_loss: 1.610217 DISC Real img: 0.721844, DISC fake img: 0.293166\n",
      "Epoch [72/100], d_loss: 0.674637, g_loss: 2.169374 DISC Real img: 0.798127, DISC fake img: 0.206747\n",
      "Epoch [73/100], d_loss: 0.635238, g_loss: 2.219223 DISC Real img: 0.830928, DISC fake img: 0.252368\n",
      "Epoch [73/100], d_loss: 0.705616, g_loss: 2.763830 DISC Real img: 0.759173, DISC fake img: 0.184647\n",
      "Epoch [73/100], d_loss: 0.700533, g_loss: 2.424605 DISC Real img: 0.796220, DISC fake img: 0.224814\n",
      "Epoch [73/100], d_loss: 0.662300, g_loss: 1.887690 DISC Real img: 0.813918, DISC fake img: 0.245813\n",
      "Epoch [74/100], d_loss: 0.717070, g_loss: 2.160943 DISC Real img: 0.810640, DISC fake img: 0.276151\n",
      "Epoch [74/100], d_loss: 0.529356, g_loss: 2.535681 DISC Real img: 0.802951, DISC fake img: 0.148963\n",
      "Epoch [74/100], d_loss: 0.698445, g_loss: 1.967834 DISC Real img: 0.742197, DISC fake img: 0.213803\n",
      "Epoch [74/100], d_loss: 0.568836, g_loss: 2.500080 DISC Real img: 0.849208, DISC fake img: 0.257702\n",
      "Epoch [75/100], d_loss: 0.899505, g_loss: 2.174115 DISC Real img: 0.734923, DISC fake img: 0.285512\n",
      "Epoch [75/100], d_loss: 0.867211, g_loss: 2.559714 DISC Real img: 0.699003, DISC fake img: 0.207178\n",
      "Epoch [75/100], d_loss: 0.758422, g_loss: 1.942067 DISC Real img: 0.802634, DISC fake img: 0.248895\n",
      "Epoch [75/100], d_loss: 0.677346, g_loss: 2.261535 DISC Real img: 0.797717, DISC fake img: 0.210250\n",
      "Epoch [76/100], d_loss: 1.100072, g_loss: 1.800082 DISC Real img: 0.624120, DISC fake img: 0.231364\n",
      "Epoch [76/100], d_loss: 0.813872, g_loss: 2.522061 DISC Real img: 0.800673, DISC fake img: 0.293665\n",
      "Epoch [76/100], d_loss: 0.666782, g_loss: 2.910840 DISC Real img: 0.779712, DISC fake img: 0.204853\n",
      "Epoch [76/100], d_loss: 0.710243, g_loss: 2.133557 DISC Real img: 0.821934, DISC fake img: 0.290422\n",
      "Epoch [77/100], d_loss: 0.584479, g_loss: 2.327838 DISC Real img: 0.784907, DISC fake img: 0.169597\n",
      "Epoch [77/100], d_loss: 0.870034, g_loss: 2.433237 DISC Real img: 0.783752, DISC fake img: 0.294276\n",
      "Epoch [77/100], d_loss: 0.618629, g_loss: 1.837622 DISC Real img: 0.798616, DISC fake img: 0.218499\n",
      "Epoch [77/100], d_loss: 0.836617, g_loss: 2.267673 DISC Real img: 0.686907, DISC fake img: 0.206020\n",
      "Epoch [78/100], d_loss: 0.985288, g_loss: 1.527518 DISC Real img: 0.724184, DISC fake img: 0.299697\n",
      "Epoch [78/100], d_loss: 1.009807, g_loss: 1.580664 DISC Real img: 0.739390, DISC fake img: 0.335712\n",
      "Epoch [78/100], d_loss: 0.713480, g_loss: 2.201399 DISC Real img: 0.733023, DISC fake img: 0.212765\n",
      "Epoch [78/100], d_loss: 0.892097, g_loss: 1.942570 DISC Real img: 0.689094, DISC fake img: 0.246350\n",
      "Epoch [79/100], d_loss: 0.780533, g_loss: 2.259643 DISC Real img: 0.689016, DISC fake img: 0.161218\n",
      "Epoch [79/100], d_loss: 0.598054, g_loss: 1.836517 DISC Real img: 0.786630, DISC fake img: 0.205625\n",
      "Epoch [79/100], d_loss: 0.690129, g_loss: 2.074457 DISC Real img: 0.740041, DISC fake img: 0.205802\n",
      "Epoch [79/100], d_loss: 0.938762, g_loss: 2.261392 DISC Real img: 0.704509, DISC fake img: 0.207264\n",
      "Epoch [80/100], d_loss: 0.972431, g_loss: 1.987572 DISC Real img: 0.671101, DISC fake img: 0.241090\n",
      "Epoch [80/100], d_loss: 0.763164, g_loss: 1.939080 DISC Real img: 0.777458, DISC fake img: 0.242471\n",
      "Epoch [80/100], d_loss: 0.858754, g_loss: 2.490337 DISC Real img: 0.818952, DISC fake img: 0.337175\n",
      "Epoch [80/100], d_loss: 0.780119, g_loss: 2.209026 DISC Real img: 0.789154, DISC fake img: 0.314085\n",
      "Epoch [81/100], d_loss: 0.840297, g_loss: 1.925438 DISC Real img: 0.741186, DISC fake img: 0.247808\n",
      "Epoch [81/100], d_loss: 0.835444, g_loss: 2.747448 DISC Real img: 0.706022, DISC fake img: 0.233369\n",
      "Epoch [81/100], d_loss: 0.835061, g_loss: 2.197675 DISC Real img: 0.657144, DISC fake img: 0.169036\n",
      "Epoch [81/100], d_loss: 0.789570, g_loss: 2.211001 DISC Real img: 0.719540, DISC fake img: 0.170389\n",
      "Epoch [82/100], d_loss: 0.912962, g_loss: 1.702122 DISC Real img: 0.722330, DISC fake img: 0.270848\n",
      "Epoch [82/100], d_loss: 1.023651, g_loss: 1.780091 DISC Real img: 0.649224, DISC fake img: 0.236311\n",
      "Epoch [82/100], d_loss: 0.580817, g_loss: 2.316989 DISC Real img: 0.844734, DISC fake img: 0.255787\n",
      "Epoch [82/100], d_loss: 0.730809, g_loss: 1.500036 DISC Real img: 0.826411, DISC fake img: 0.287952\n",
      "Epoch [83/100], d_loss: 0.612716, g_loss: 2.150324 DISC Real img: 0.757544, DISC fake img: 0.180630\n",
      "Epoch [83/100], d_loss: 0.679150, g_loss: 2.117854 DISC Real img: 0.823684, DISC fake img: 0.293721\n",
      "Epoch [83/100], d_loss: 0.662857, g_loss: 2.112201 DISC Real img: 0.761563, DISC fake img: 0.205629\n",
      "Epoch [83/100], d_loss: 0.960125, g_loss: 2.103231 DISC Real img: 0.675581, DISC fake img: 0.255149\n",
      "Epoch [84/100], d_loss: 0.781733, g_loss: 1.588356 DISC Real img: 0.824695, DISC fake img: 0.316775\n",
      "Epoch [84/100], d_loss: 0.984763, g_loss: 1.649150 DISC Real img: 0.790781, DISC fake img: 0.403817\n",
      "Epoch [84/100], d_loss: 0.681264, g_loss: 1.872851 DISC Real img: 0.792627, DISC fake img: 0.258035\n",
      "Epoch [84/100], d_loss: 1.045040, g_loss: 1.851666 DISC Real img: 0.648508, DISC fake img: 0.292203\n",
      "Epoch [85/100], d_loss: 0.979526, g_loss: 1.597415 DISC Real img: 0.711012, DISC fake img: 0.302082\n",
      "Epoch [85/100], d_loss: 0.682875, g_loss: 2.028040 DISC Real img: 0.787942, DISC fake img: 0.248155\n"
     ]
    },
    {
     "name": "stdout",
     "output_type": "stream",
     "text": [
      "Epoch [85/100], d_loss: 0.811032, g_loss: 1.806747 DISC Real img: 0.746626, DISC fake img: 0.266138\n",
      "Epoch [85/100], d_loss: 0.841598, g_loss: 2.057272 DISC Real img: 0.753954, DISC fake img: 0.319330\n",
      "Epoch [86/100], d_loss: 1.014057, g_loss: 1.626943 DISC Real img: 0.779067, DISC fake img: 0.383975\n",
      "Epoch [86/100], d_loss: 0.884418, g_loss: 2.059019 DISC Real img: 0.737456, DISC fake img: 0.303924\n",
      "Epoch [86/100], d_loss: 1.007476, g_loss: 1.786854 DISC Real img: 0.734504, DISC fake img: 0.321852\n",
      "Epoch [86/100], d_loss: 0.837918, g_loss: 1.922586 DISC Real img: 0.681087, DISC fake img: 0.180702\n",
      "Epoch [87/100], d_loss: 0.886630, g_loss: 1.743281 DISC Real img: 0.701513, DISC fake img: 0.242359\n",
      "Epoch [87/100], d_loss: 0.794480, g_loss: 2.304958 DISC Real img: 0.707933, DISC fake img: 0.214953\n",
      "Epoch [87/100], d_loss: 1.027615, g_loss: 1.985162 DISC Real img: 0.678491, DISC fake img: 0.294626\n",
      "Epoch [87/100], d_loss: 0.672597, g_loss: 2.169463 DISC Real img: 0.755642, DISC fake img: 0.201791\n",
      "Epoch [88/100], d_loss: 0.761075, g_loss: 1.974720 DISC Real img: 0.748461, DISC fake img: 0.254934\n",
      "Epoch [88/100], d_loss: 0.855418, g_loss: 1.904173 DISC Real img: 0.727593, DISC fake img: 0.237258\n",
      "Epoch [88/100], d_loss: 0.823818, g_loss: 1.762580 DISC Real img: 0.777822, DISC fake img: 0.311419\n",
      "Epoch [88/100], d_loss: 0.540244, g_loss: 2.170961 DISC Real img: 0.837217, DISC fake img: 0.214854\n",
      "Epoch [89/100], d_loss: 1.062541, g_loss: 1.633535 DISC Real img: 0.780649, DISC fake img: 0.378762\n",
      "Epoch [89/100], d_loss: 0.713813, g_loss: 1.859072 DISC Real img: 0.717977, DISC fake img: 0.183286\n",
      "Epoch [89/100], d_loss: 0.970705, g_loss: 1.990707 DISC Real img: 0.742502, DISC fake img: 0.305847\n",
      "Epoch [89/100], d_loss: 0.825713, g_loss: 1.448913 DISC Real img: 0.766235, DISC fake img: 0.314996\n",
      "Epoch [90/100], d_loss: 1.021159, g_loss: 2.161350 DISC Real img: 0.743679, DISC fake img: 0.354534\n",
      "Epoch [90/100], d_loss: 0.805003, g_loss: 2.034694 DISC Real img: 0.792701, DISC fake img: 0.284070\n",
      "Epoch [90/100], d_loss: 0.676591, g_loss: 2.144365 DISC Real img: 0.745188, DISC fake img: 0.190114\n",
      "Epoch [90/100], d_loss: 0.944947, g_loss: 1.655155 DISC Real img: 0.693224, DISC fake img: 0.254922\n",
      "Epoch [91/100], d_loss: 0.682155, g_loss: 2.031537 DISC Real img: 0.770808, DISC fake img: 0.226805\n",
      "Epoch [91/100], d_loss: 0.914648, g_loss: 1.765023 DISC Real img: 0.704067, DISC fake img: 0.242844\n",
      "Epoch [91/100], d_loss: 1.010475, g_loss: 1.843974 DISC Real img: 0.730453, DISC fake img: 0.332187\n",
      "Epoch [91/100], d_loss: 0.854115, g_loss: 1.833227 DISC Real img: 0.700324, DISC fake img: 0.243824\n",
      "Epoch [92/100], d_loss: 0.633103, g_loss: 1.914654 DISC Real img: 0.797666, DISC fake img: 0.238987\n",
      "Epoch [92/100], d_loss: 0.953809, g_loss: 2.100600 DISC Real img: 0.719756, DISC fake img: 0.334234\n",
      "Epoch [92/100], d_loss: 0.730319, g_loss: 2.311128 DISC Real img: 0.719023, DISC fake img: 0.173103\n",
      "Epoch [92/100], d_loss: 0.867429, g_loss: 1.890278 DISC Real img: 0.814882, DISC fake img: 0.332680\n",
      "Epoch [93/100], d_loss: 0.828449, g_loss: 1.787630 DISC Real img: 0.803184, DISC fake img: 0.345672\n",
      "Epoch [93/100], d_loss: 0.723745, g_loss: 1.990070 DISC Real img: 0.801900, DISC fake img: 0.279006\n",
      "Epoch [93/100], d_loss: 0.679124, g_loss: 1.841457 DISC Real img: 0.726217, DISC fake img: 0.178546\n",
      "Epoch [93/100], d_loss: 0.840202, g_loss: 1.629807 DISC Real img: 0.727046, DISC fake img: 0.241972\n",
      "Epoch [94/100], d_loss: 0.796070, g_loss: 2.006810 DISC Real img: 0.778687, DISC fake img: 0.289708\n",
      "Epoch [94/100], d_loss: 0.906049, g_loss: 2.202145 DISC Real img: 0.713092, DISC fake img: 0.240423\n",
      "Epoch [94/100], d_loss: 0.905522, g_loss: 1.538921 DISC Real img: 0.779215, DISC fake img: 0.357200\n",
      "Epoch [94/100], d_loss: 0.845370, g_loss: 1.866976 DISC Real img: 0.691584, DISC fake img: 0.236515\n",
      "Epoch [95/100], d_loss: 0.763285, g_loss: 2.096803 DISC Real img: 0.778647, DISC fake img: 0.264693\n",
      "Epoch [95/100], d_loss: 0.716771, g_loss: 1.718964 DISC Real img: 0.852714, DISC fake img: 0.314537\n",
      "Epoch [95/100], d_loss: 0.659873, g_loss: 2.155168 DISC Real img: 0.752977, DISC fake img: 0.224907\n",
      "Epoch [95/100], d_loss: 1.111633, g_loss: 1.927703 DISC Real img: 0.670492, DISC fake img: 0.291378\n",
      "Epoch [96/100], d_loss: 0.700008, g_loss: 2.160335 DISC Real img: 0.765143, DISC fake img: 0.237738\n",
      "Epoch [96/100], d_loss: 0.816599, g_loss: 2.328516 DISC Real img: 0.729013, DISC fake img: 0.231989\n",
      "Epoch [96/100], d_loss: 0.998340, g_loss: 1.270441 DISC Real img: 0.705893, DISC fake img: 0.314546\n",
      "Epoch [96/100], d_loss: 0.745659, g_loss: 1.523696 DISC Real img: 0.735421, DISC fake img: 0.235200\n",
      "Epoch [97/100], d_loss: 0.862301, g_loss: 1.746603 DISC Real img: 0.722825, DISC fake img: 0.275535\n",
      "Epoch [97/100], d_loss: 0.763027, g_loss: 1.832182 DISC Real img: 0.734652, DISC fake img: 0.240217\n",
      "Epoch [97/100], d_loss: 0.647447, g_loss: 2.103813 DISC Real img: 0.766461, DISC fake img: 0.220430\n",
      "Epoch [97/100], d_loss: 0.755737, g_loss: 1.752257 DISC Real img: 0.727889, DISC fake img: 0.225152\n",
      "Epoch [98/100], d_loss: 0.859976, g_loss: 1.811964 DISC Real img: 0.788188, DISC fake img: 0.346172\n",
      "Epoch [98/100], d_loss: 0.870095, g_loss: 1.894667 DISC Real img: 0.768029, DISC fake img: 0.334524\n",
      "Epoch [98/100], d_loss: 0.787106, g_loss: 2.189434 DISC Real img: 0.735640, DISC fake img: 0.231063\n",
      "Epoch [98/100], d_loss: 0.881845, g_loss: 1.914897 DISC Real img: 0.740089, DISC fake img: 0.301441\n",
      "Epoch [99/100], d_loss: 0.905891, g_loss: 2.391744 DISC Real img: 0.678866, DISC fake img: 0.202859\n",
      "Epoch [99/100], d_loss: 0.998151, g_loss: 1.467877 DISC Real img: 0.699546, DISC fake img: 0.307497\n",
      "Epoch [99/100], d_loss: 0.803236, g_loss: 1.918746 DISC Real img: 0.759324, DISC fake img: 0.248638\n",
      "Epoch [99/100], d_loss: 0.895982, g_loss: 1.546025 DISC Real img: 0.764847, DISC fake img: 0.344777\n"
     ]
    }
   ],
   "source": [
    "for epoch in range(num_epochs):\n",
    "    for i, (x, y) in enumerate(train_dl): # x is the real image, y is the real label\n",
    "        img_nums = x.shape[0] # effective batch size\n",
    "                \n",
    "        # In this case, we want to discriminate which one is real and which is fake.\n",
    "        # So we create the labels accordingly.\n",
    "        real_label = Variable(torch.ones(img_nums)).to(device)\n",
    "        fake_label = Variable(torch.zeros(img_nums)).to(device)\n",
    "        \n",
    "        \n",
    "        # Train the discriminator network on real data\n",
    "        x = x.view(x.size(0), -1).to(device)\n",
    "        x = Variable(x).to(device) # useless?\n",
    "        \n",
    "        # compute loss of real_img\n",
    "        d_real_out = Dnet(x)\n",
    "        d_loss_real = loss_fn(d_real_out.squeeze(), real_label) \n",
    "        real_scores = d_real_out  # closer to 1 means better\n",
    "        \n",
    "        # training discriminator on the data produced by generator\n",
    "        # generate the image of a specific dimention (z_dimention).\n",
    "        # We start from noise.\n",
    "        z = Variable(torch.randn(img_nums, fake_img_size)).to(device)\n",
    "        fake_x = Gnet(z).detach()\n",
    "        d_fake_out = Dnet(fake_x)\n",
    "        d_loss_fake = loss_fn(d_fake_out.squeeze(), fake_label)        \n",
    "        \n",
    "\n",
    "        fake_scores = d_fake_out  # closer to 0 means better\n",
    "\n",
    "        # backprop\n",
    "        d_loss = d_loss_real + d_loss_fake\n",
    "        d_optimizer.zero_grad()\n",
    "        d_loss.backward()\n",
    "        d_optimizer.step()        \n",
    "        \n",
    "                \n",
    "        \n",
    "        # Train the generator network\n",
    "        \n",
    "        # compute loss of fake_img\n",
    "        z = Variable(torch.randn(img_nums, fake_img_size)).to(device)\n",
    "        fake_img = Gnet(z)\n",
    "        output = Dnet(fake_img)\n",
    "        g_loss = loss_fn(output, real_label) # not sure why I have real_label here!\n",
    "\n",
    "        # We’ll then pass the output of generator to \n",
    "        # discriminator and see what discriminator has\n",
    "        # to say about it. \n",
    "        # If discriminator predicts 1 for our generated data, \n",
    "        # well and good, the generator is working okay, and if discriminator predict 0, generator needs to still learn.\n",
    "        \n",
    "        # backprop and optimize\n",
    "        g_optimizer.zero_grad()\n",
    "        g_loss.backward()\n",
    "        g_optimizer.step()\n",
    "                        \n",
    "        \n",
    "        if (i + 1) % 100 == 0:\n",
    "            print('Epoch [{}/{}], d_loss: {:.6f}, g_loss: {:.6f} '\n",
    "                  'DISC Real img: {:.6f}, DISC fake img: {:.6f}'.format(\n",
    "                  epoch, num_epochs, d_loss.data, g_loss.data,\n",
    "                  real_scores.data.mean(), fake_scores.data.mean()))\n",
    "        \n",
    "        \n",
    "    if epoch == 0:\n",
    "        print('Epoch [{}/{}], saving a sample of real images.'.format(epoch, num_epochs))\n",
    "        real_images = toImg(x.cpu().data)\n",
    "        save_image(real_images, '../results/08-generative-adversarial-networks/real-images.png')\n",
    "        \n",
    "\n",
    "    fake_images = toImg(fake_img.cpu().data)\n",
    "    save_image(fake_images, '../results/08-generative-adversarial-networks/fake-images-{}.png'.format(epoch + 1))"
   ]
  },
  {
   "cell_type": "code",
   "execution_count": null,
   "metadata": {},
   "outputs": [],
   "source": [
    "# As suggested in https://pytorch.org/tutorials/beginner/saving_loading_models.html\n",
    "torch.save(Gnet, '../saved-mdls/08-generative-adversarial-networks/generator-{}e.pt'.format(epoch+1))\n",
    "torch.save(Dnet, '../saved-mdls/08-generative-adversarial-networks/distriminator-"
   ]
  },
  {
   "cell_type": "markdown",
   "metadata": {},
   "source": [
    "# References\n",
    "\n",
    "1. [Original paper (theano)](https://github.com/goodfeli/adversarial)\n",
    "2. [Tensorflow implementation](https://github.com/ckmarkoh/GAN-tensorflow)\n",
    "3. [Understanding GANS](https://towardsdatascience.com/understanding-generative-adversarial-networks-gans-cd6e4651a29)\n",
    "4. [Data science courses](https://www.youtube.com/channel/UCKJNzy_GuvX3SAg3ipaGa8A)"
   ]
  },
  {
   "cell_type": "code",
   "execution_count": null,
   "metadata": {},
   "outputs": [],
   "source": []
  }
 ],
 "metadata": {
  "kernelspec": {
   "display_name": "Python 3",
   "language": "python",
   "name": "python3"
  },
  "language_info": {
   "codemirror_mode": {
    "name": "ipython",
    "version": 3
   },
   "file_extension": ".py",
   "mimetype": "text/x-python",
   "name": "python",
   "nbconvert_exporter": "python",
   "pygments_lexer": "ipython3",
   "version": "3.7.3"
  }
 },
 "nbformat": 4,
 "nbformat_minor": 2
}
